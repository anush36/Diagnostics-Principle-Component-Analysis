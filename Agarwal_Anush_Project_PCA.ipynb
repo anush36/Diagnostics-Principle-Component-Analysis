{
  "nbformat": 4,
  "nbformat_minor": 0,
  "metadata": {
    "colab": {
      "name": "Agarwal_Anush_Project_PCA.ipynb",
      "provenance": [],
      "collapsed_sections": [],
      "include_colab_link": true
    },
    "kernelspec": {
      "display_name": "Python 3",
      "language": "python",
      "name": "python3"
    },
    "language_info": {
      "codemirror_mode": {
        "name": "ipython",
        "version": 3
      },
      "file_extension": ".py",
      "mimetype": "text/x-python",
      "name": "python",
      "nbconvert_exporter": "python",
      "pygments_lexer": "ipython3",
      "version": "3.7.3"
    }
  },
  "cells": [
    {
      "cell_type": "markdown",
      "metadata": {
        "id": "view-in-github",
        "colab_type": "text"
      },
      "source": [
        "<a href=\"https://colab.research.google.com/github/anush36/Radiomics-Principle-Component-Analysis/blob/main/Agarwal_Anush_Project_PCA.ipynb\" target=\"_parent\"><img src=\"https://colab.research.google.com/assets/colab-badge.svg\" alt=\"Open In Colab\"/></a>"
      ]
    },
    {
      "cell_type": "markdown",
      "metadata": {
        "id": "ZGgZxDT2HU1x"
      },
      "source": [
        "# **Principal Component Analysis**\n",
        "\n",
        "### Anush Agarwal\n",
        "### November 1st, 2019\n",
        "\n",
        "\n"
      ]
    },
    {
      "cell_type": "markdown",
      "metadata": {
        "id": "p5HzIGSZixat"
      },
      "source": [
        "The goal of PCA is to represent data in a lower dimension while retaining as much of the total variance as possible [1]. This is relevant to machine learning because variance along features between examples is essential to differentiate clusters of data. PCA also allows for visualization of high dimensional data sets in a meaningful way as will be shown below.\n",
        "\n",
        "Scikit-learn contains a built-in PCA algorithm, however it will be shown that equivalent results can be achieved using only numpy functions [2]. For this demonstration, the publicly available UCI ML Breast Cancer Wisconsin (Diagnostic) dataset will be used as it is easily accessible using the sk-learn library [3][4]. This dataset contains 569 examples with 30 features (30 dimensions) that describe the morphology of a cell (radius, texture, symmetry, etc). It is impossible to visualize the data in all 30 dimensions simultaneously, so PCA will be used to visualize the data in the two dimensions that hold the most meaningful information."
      ]
    },
    {
      "cell_type": "code",
      "metadata": {
        "id": "zW3uLKjIGwPS"
      },
      "source": [
        "from matplotlib import pyplot as plt\n",
        "import numpy as np\n",
        "from sklearn import datasets\n",
        "\n",
        "np.set_printoptions(precision=3)\n",
        "np.set_printoptions(suppress=True)\n",
        "\n",
        "# load breast cancer data set as an object and isolate the example dataset, X,\n",
        "# example labels, Y, and the names of each label, label_names (malignant and benign)\n",
        "dataset = datasets.load_breast_cancer()\n",
        "X = dataset.data\n"
      ],
      "execution_count": null,
      "outputs": []
    },
    {
      "cell_type": "markdown",
      "metadata": {
        "id": "VmflmwEXjdlh"
      },
      "source": [
        "## Mean Subtraction Centering\n",
        "\n",
        "The mean of each feature is subtracted from all examples to center the dataset about the origin. This allows for easier computation in practical applications of PCA."
      ]
    },
    {
      "cell_type": "code",
      "metadata": {
        "id": "odeTnCfij68U"
      },
      "source": [
        "# Preprocessing Data\n",
        "# Centering\n",
        "\n",
        "Xi, Xj = X.shape\n",
        "X_standard = np.zeros([Xi,Xj])\n",
        "means = np.sum(X, axis = 0) / Xi\n",
        "variances = np.std(X, axis = 0)\n",
        "for dim in range(Xj):\n",
        "    X_standard[:, dim] = (X[:, dim] - means[dim])   "
      ],
      "execution_count": null,
      "outputs": []
    },
    {
      "cell_type": "markdown",
      "metadata": {
        "id": "p4tEsnPbgRxa"
      },
      "source": [
        "## Projection to Principal Subspace\n",
        "\n",
        "In the textbook, it was shown that the variance of data projected to a dimension is equal to the eigenvalue of the basis vector of that dimension [1]. From this, choosing the eigenvector associated with the largest eigenvalue of the covariance matrix, $S$, would maximize the variance in a one dimensional representation of the data. "
      ]
    },
    {
      "cell_type": "code",
      "metadata": {
        "colab": {
          "base_uri": "https://localhost:8080/",
          "height": 438
        },
        "id": "odl6xiX9GoOS",
        "outputId": "252fc043-fe86-4b8e-9ce5-dd1fdfeaf753"
      },
      "source": [
        "S_std = np.cov(X_standard.T)\n",
        "eigvalues_std, eigvectors_std = np.linalg.eig(S_std)  #find eigenvalues and eigenvectors using eigendecomposition\n",
        "print(\"Eigenvalues of covariance matrix:\\n\", eigvalues_std)\n",
        "\n",
        "print(\"\\nEigenvalue of each principal component plotted:\\n\")\n",
        "plt.plot(np.arange(1,Xj + 1,1), eigvalues_std)\n",
        "plt.xlabel(\"Principal Component\")\n",
        "plt.ylabel(\"Eigenvalue\")\n",
        "plt.show()\n"
      ],
      "execution_count": null,
      "outputs": [
        {
          "name": "stdout",
          "output_type": "stream",
          "text": [
            "Eigenvalues of covariance matrix:\n",
            " [443782.605   7310.1      703.834     54.649     39.89       3.005\n",
            "      1.815      0.371      0.156      0.084      0.032      0.007\n",
            "      0.003      0.002      0.001      0.001      0.         0.\n",
            "      0.         0.         0.         0.         0.         0.\n",
            "      0.         0.         0.         0.         0.         0.   ]\n",
            "\n",
            "Eigenvalue of each principal component plotted:\n",
            "\n"
          ]
        },
        {
          "data": {
            "image/png": "[encoded data removed]",
            "text/plain": [
              "<Figure size 432x288 with 1 Axes>"
            ]
          },
          "metadata": {
            "needs_background": "light"
          },
          "output_type": "display_data"
        }
      ]
    },
    {
      "cell_type": "markdown",
      "metadata": {
        "id": "w7XaT5fimT5C"
      },
      "source": [
        "The eigenvector associated with the largest eigenvalue is the first principal component of the dataset. All the vectors in $X$ can then be projected onto *pc_1* to find the co-ordinates, $P$, of each example relative to the basis vectors of the principal subspace."
      ]
    },
    {
      "cell_type": "code",
      "metadata": {
        "colab": {
          "base_uri": "https://localhost:8080/",
          "height": 70
        },
        "id": "CZlN-x6omeJx",
        "outputId": "6d1e40e3-ccba-4b2a-9340-b9a33949bf27"
      },
      "source": [
        "order = np.argsort(-eigvalues_std) #ordering of eigenvalues is not guarunteed by numpy, this is to double check the order.\n",
        "    \n",
        "pc_1 = eigvectors_std[:,order[0]]\n",
        "print(pc_1)\n",
        "\n",
        "#project data to first principal component.\n",
        "P = pc_1.T.dot(X_standard.T)"
      ],
      "execution_count": null,
      "outputs": [
        {
          "name": "stdout",
          "output_type": "stream",
          "text": [
            "[ 0.005  0.002  0.035  0.517  0.     0.     0.     0.     0.    -0.\n",
            "  0.    -0.     0.002  0.056 -0.     0.     0.     0.    -0.    -0.\n",
            "  0.007  0.003  0.049  0.852  0.     0.     0.     0.     0.     0.   ]\n"
          ]
        }
      ]
    },
    {
      "cell_type": "markdown",
      "metadata": {
        "id": "069gXisSnygC"
      },
      "source": [
        "Plotting the projected points to this eigenvector reveals the variation of the data in the first principal component. In the plot below, this variation is represented in the vertical axis. The spread of points in the horizontal axis is artificially created to prevent points from overlapping in the visualization."
      ]
    },
    {
      "cell_type": "code",
      "metadata": {
        "colab": {
          "base_uri": "https://localhost:8080/",
          "height": 314
        },
        "id": "t6Zz05WUoQgY",
        "outputId": "ff15d216-258c-4552-95eb-c7ef8f6ee3bf"
      },
      "source": [
        "toPlot = np.arange(0,Xi,1)\n",
        "\n",
        "print(\"Data Visualization with 1 Principal Component:\", \"\\n\")\n",
        "plt.scatter(toPlot,P)\n",
        "plt.xlabel(\"Examples\")\n",
        "plt.ylabel(\"Principal Component 1\")\n",
        "plt.show()"
      ],
      "execution_count": null,
      "outputs": [
        {
          "name": "stdout",
          "output_type": "stream",
          "text": [
            "Data Visualization with 1 Principal Component: \n",
            "\n"
          ]
        },
        {
          "data": {
            "image/png": "[encoded data removed]",
            "text/plain": [
              "<Figure size 432x288 with 1 Axes>"
            ]
          },
          "metadata": {
            "needs_background": "light"
          },
          "output_type": "display_data"
        }
      ]
    },
    {
      "cell_type": "markdown",
      "metadata": {
        "id": "kzznMrpGphLW"
      },
      "source": [
        "By including the label data, it can be seen in the figure below that both classes, malignant and benign, are well separated with just one principal component. The domination of malignant labels in outlying points agrees with the concept that cancerous cells are misshapen, and are therefore less likely to conform to the mean value of a morphological feature [5]. \n",
        "\n",
        "\n"
      ]
    },
    {
      "cell_type": "code",
      "metadata": {
        "colab": {
          "base_uri": "https://localhost:8080/",
          "height": 314
        },
        "id": "78j3iUVkpqpy",
        "outputId": "ce8a5d0c-cbeb-41db-c81d-c9c5168e6e65"
      },
      "source": [
        "Y = dataset.target\n",
        "label_names = dataset.target_names\n",
        "\n",
        "ben = P[Y[:] > 0.5]\n",
        "ben_toPlot = toPlot[Y[:] > 0.5]\n",
        "mal = P[Y[:] < 0.5]\n",
        "mal_toPlot = toPlot[Y[:] < 0.5]\n",
        "\n",
        "print(\"Data Visualization with 1 Principal Component and sample labels:\", \"\\n\")\n",
        "plt.scatter(mal_toPlot,mal, color = 'red')\n",
        "plt.scatter(ben_toPlot,ben, color = 'green')\n",
        "plt.xlabel(\"Examples\")\n",
        "plt.ylabel(\"Principal Component 1\")\n",
        "plt.legend(label_names)\n",
        "plt.show()\n"
      ],
      "execution_count": null,
      "outputs": [
        {
          "name": "stdout",
          "output_type": "stream",
          "text": [
            "Data Visualization with 1 Principal Component and sample labels: \n",
            "\n"
          ]
        },
        {
          "data": {
            "image/png": "[encoded data removed]",
            "text/plain": [
              "<Figure size 432x288 with 1 Axes>"
            ]
          },
          "metadata": {
            "needs_background": "light"
          },
          "output_type": "display_data"
        }
      ]
    },
    {
      "cell_type": "markdown",
      "metadata": {
        "id": "qQfQWGZsq8J2"
      },
      "source": [
        "This process can be extended to obtain projections of the data onto a principal subspace that has a dimensionality, $m$. To generalize the projection, a projection matrix, $B_m$, can be created whose columns are the basis eigenvectors, $b$, of the covariance of the centered data, $S$. \n",
        "\n",
        "\n",
        "\n",
        "$$B_m=[b_1, ... , b_m]$$ \n",
        "\n",
        "For an $m$ dimensional principal subspace, the projected data, $P$, can be found:"
      ]
    },
    {
      "cell_type": "code",
      "metadata": {
        "colab": {
          "base_uri": "https://localhost:8080/",
          "height": 582
        },
        "id": "dXWg-f-9vsGN",
        "outputId": "cb471401-452c-4aab-944c-2b83c48a4209"
      },
      "source": [
        "m = 2   \n",
        "\n",
        "B = eigvectors_std[:, order[0 : m]]\n",
        "\n",
        "P = B.T.dot(X_standard.T)\n",
        "\n",
        "if m == 2:  #error proofing if user changes value of m above.\n",
        "  print(\"Data Visualization with 2 Principal Components:\", \"\\n\")\n",
        "\n",
        "  plt.scatter(P[0,:],P[1,:])\n",
        "  plt.xlabel(\"First principal component\")\n",
        "  plt.ylabel(\"Second principal component\")\n",
        "  plt.show()\n",
        "  \n",
        "  # View 2-component PCA with classes\n",
        "  plt.scatter(P[0,Y[:] < 0.5],P[1,Y[:] < 0.5], color = 'red')\n",
        "  plt.scatter(P[0,Y[:] > 0.5],P[1,Y[:] > 0.5], color = 'green')\n",
        "  plt.xlabel(\"First principal component\")\n",
        "  plt.ylabel(\"Second principal component\")\n",
        "  plt.legend(label_names)\n",
        "  plt.show()\n",
        "\n",
        "\n",
        "\n"
      ],
      "execution_count": null,
      "outputs": [
        {
          "name": "stdout",
          "output_type": "stream",
          "text": [
            "Data Visualization with 2 Principal Components: \n",
            "\n"
          ]
        },
        {
          "data": {
            "image/png": "[encoded data removed]",
            "text/plain": [
              "<Figure size 432x288 with 1 Axes>"
            ]
          },
          "metadata": {
            "needs_background": "light"
          },
          "output_type": "display_data"
        },
        {
          "data": {
            "image/png": "[encoded data removed]",
            "text/plain": [
              "<Figure size 432x288 with 1 Axes>"
            ]
          },
          "metadata": {
            "needs_background": "light"
          },
          "output_type": "display_data"
        }
      ]
    },
    {
      "cell_type": "markdown",
      "metadata": {
        "id": "g3QvqMEkqmRm"
      },
      "source": [
        "# Maximum Variance Perspective\n",
        "\n",
        "PCA can be viewed as an algorithm that finds the maximum variance representation in a lower dimensional subspace. The maximum variance that can be captured by an $M$ dimensional subspace is given by:\n",
        "\n",
        "$$V_M=\\sum_{i=1}^{M}\\lambda_i$$\n",
        "\n",
        "The variance lost is given by:\n",
        "\n",
        "$$J_M=\\sum_{i=M+1}^{D}\\lambda_i$$"
      ]
    },
    {
      "cell_type": "code",
      "metadata": {
        "colab": {
          "base_uri": "https://localhost:8080/",
          "height": 52
        },
        "id": "iVnETMVo-bza",
        "outputId": "d83e152e-d62a-4566-a850-160b82002e21"
      },
      "source": [
        "# Find the variance of each principal component as a percentage of total variance.\n",
        "var_ofTotal = eigvalues_std / np.sum(eigvalues_std) * 100\n",
        "\n",
        "V = 0\n",
        "J = 0\n",
        "\n",
        "for dim in range(m):\n",
        "  V += var_ofTotal[dim]\n",
        "\n",
        "for dim in np.arange(m+1,Xj,1):\n",
        "  J += var_ofTotal[dim]\n",
        "\n",
        "print(f\"Percentage of total variance captured with {m} principal components: {V}%.\")\n",
        "print(f\"Percentage of total variance lost with {m} principal components: {J}%.\")"
      ],
      "execution_count": null,
      "outputs": [
        {
          "name": "stdout",
          "output_type": "stream",
          "text": [
            "Percentage of total variance captured with 2 principal components: 99.82211613741725%.\n",
            "Percentage of total variance lost with 2 principal components: 0.02213278808123024%.\n"
          ]
        }
      ]
    },
    {
      "cell_type": "markdown",
      "metadata": {
        "id": "Q3GMXnmzCsqz"
      },
      "source": [
        "## Projection Perspective\n",
        "\n",
        "Another way to interpret PCA is as an algorithm that minimizes the average reconstruction error. Intuitively, minimizing the reconstruction error of a lower dimensional representation is equivalent to maximizing its variance. As the uncaptured variance reduces, the euclidean distance between a transformed point and the original point will also reduce.\n",
        "\n",
        "The matrix of projected vectors, $P$, found earlier gave co-ordinates in terms of the basis vectors of the principal subspace. To find the representation of these projections in terms of the original dimensionality, they must be multiplied by the projection matrix, $B$. The reconstruction error for an $M$ dimensional reconstruction, $R_M$, can then be measured as the average squared Euclidean distance between the projected vectors and the original vectors:\n",
        "\n",
        "$$R_M=\\frac{1}{N} \\sum_{n=1}^{N}\\| x_n-\\tilde x_n\\|^2$$\n",
        "\n"
      ]
    },
    {
      "cell_type": "code",
      "metadata": {
        "colab": {
          "base_uri": "https://localhost:8080/",
          "height": 34
        },
        "id": "kvkE1Br_FdE9",
        "outputId": "9824bb61-2dcb-4a1c-deea-0c9b900a493b"
      },
      "source": [
        "X_proj = B.dot(P) #transform projected points back to original dimensionality.\n",
        "\n",
        "X_dif = X - X_proj.T  #difference vector\n",
        "R = 0\n",
        "\n",
        "for example in range(Xi):\n",
        "  R += np.linalg.norm(X_dif[example, :]) ** 2\n",
        "\n",
        "R = R / Xi\n",
        "\n",
        "print(f\"Average reconstruction error with a projection to {m} Principal component subspace: {R}\")\n",
        "\n",
        "\n"
      ],
      "execution_count": null,
      "outputs": [
        {
          "name": "stdout",
          "output_type": "stream",
          "text": [
            "Average reconstruction error with a projection to 2 Principal component subspace: 1228205.0395900148\n"
          ]
        }
      ]
    },
    {
      "cell_type": "markdown",
      "metadata": {
        "id": "mdrxG2A6QmKt"
      },
      "source": [
        "## Singular Value Decomposition\n",
        "\n",
        "Another method for finding the eigenvalues is using singular value decomposition. The SVD of the data matrix is given by:\n",
        "\n",
        "$$X = U\\Sigma V^T $$\n",
        "\n",
        "The singular values found in $\\Sigma$ (E matrix in the code) are related to the eigenvalues, $\\lambda $, by:\n",
        "\n",
        "$$ \\lambda_d = \\frac{\\sigma_d^2}{N}$$\n",
        "\n",
        "Additionally, the columns of $U$ are equivalent to the eigenvectors. Through this relationship, with the same eigenvalues and eigenvectors as above, the best lower dimensional representation of the data can also be retrieved. \n"
      ]
    },
    {
      "cell_type": "code",
      "metadata": {
        "colab": {
          "base_uri": "https://localhost:8080/",
          "height": 390
        },
        "id": "7FbZFsqBCI8n",
        "outputId": "c31a9110-9d0c-4501-dfad-49df1f3c5269"
      },
      "source": [
        "U, E, V = np.linalg.svd(X_standard.T)\n",
        "\n",
        "#relationship between eigenvalues and singular values:\n",
        "svd_eig = (E ** 2) / Xi\n",
        "\n",
        "print(\"Singular values squared and divided by N are effectively equivalent to the eigenvalues:\\n\")\n",
        "print(svd_eig)\n",
        "print(eigvalues_std)\n",
        "\n",
        "#relationship between eigenvectors and columns of U matrix:\n",
        "print(\"\\n\",\"The first column of U is equivalent to the first eigenvector multiplied by a scalar of -1:\\n\")\n",
        "print(U[:,0])\n",
        "print(eigvectors_std[:,0])\n"
      ],
      "execution_count": null,
      "outputs": [
        {
          "name": "stdout",
          "output_type": "stream",
          "text": [
            "Singular values squared and divided by N are effectively equivalent to the eigenvalues:\n",
            "\n",
            "[443002.671   7297.253    702.597     54.553     39.82       2.999\n",
            "      1.812      0.371      0.155      0.084      0.032      0.007\n",
            "      0.003      0.002      0.001      0.001      0.         0.\n",
            "      0.         0.         0.         0.         0.         0.\n",
            "      0.         0.         0.         0.         0.         0.   ]\n",
            "[443782.605   7310.1      703.834     54.649     39.89       3.005\n",
            "      1.815      0.371      0.156      0.084      0.032      0.007\n",
            "      0.003      0.002      0.001      0.001      0.         0.\n",
            "      0.         0.         0.         0.         0.         0.\n",
            "      0.         0.         0.         0.         0.         0.   ]\n",
            "\n",
            " The first column of U is equivalent to the first eigenvector multiplied by a scalar of -1:\n",
            "\n",
            "[-0.005 -0.002 -0.035 -0.517 -0.    -0.    -0.    -0.    -0.     0.\n",
            " -0.     0.    -0.002 -0.056  0.    -0.    -0.    -0.     0.     0.\n",
            " -0.007 -0.003 -0.049 -0.852 -0.    -0.    -0.    -0.    -0.    -0.   ]\n",
            "[ 0.005  0.002  0.035  0.517  0.     0.     0.     0.     0.    -0.\n",
            "  0.    -0.     0.002  0.056 -0.     0.     0.     0.    -0.    -0.\n",
            "  0.007  0.003  0.049  0.852  0.     0.     0.     0.     0.     0.   ]\n"
          ]
        }
      ]
    },
    {
      "cell_type": "markdown",
      "metadata": {
        "id": "nuwmu0M9KHMn"
      },
      "source": [
        "## First Eigenvector using Power Iteration\n",
        "\n",
        "A practical trick to find the first eigenvector is to use power iteration shown below. This involves multiplying $x_k$, a random vector in the null space of the covariance matrix, $S$, and then normalizing it. This process is repeated $k$ times until it converges: \n",
        "\n",
        "$$x_{k+1} =  \\frac{Sx_k}{\\|Sx_k\\|}$$"
      ]
    },
    {
      "cell_type": "code",
      "metadata": {
        "colab": {
          "base_uri": "https://localhost:8080/",
          "height": 158
        },
        "id": "JJ2mGeVbNyQT",
        "outputId": "705aebcc-1098-429c-95f5-8dd86436424c"
      },
      "source": [
        "# Randomly choose each component of the vector from an example in the dataset. This ensures that the vector is not in the null space of S.\n",
        "x_rand = np.zeros(30)\n",
        "\n",
        "for dim in range(Xj):\n",
        "  sample = round(np.random.rand() * Xi)\n",
        "  x_rand[dim] = X_standard[sample, dim]\n",
        "\n",
        "x_new = np.zeros(30)\n",
        "x_new = (S_std.dot(x_rand)) / np.linalg.norm(S_std.dot(x_rand))\n",
        "\n",
        "while(np.allclose(x_new, x_rand, 0.0001, 0.0001) == False):\n",
        "  x_rand = x_new\n",
        "  x_new = (S_std.dot(x_new)) / np.linalg.norm(S_std.dot(x_new))\n",
        "\n",
        "print(\"The converged vector is equivalent to the first eigenvector (multiplied by a scalar depending on initialization):\\n\")\n",
        "print(x_rand)\n",
        "print(eigvectors_std[:,0])\n"
      ],
      "execution_count": null,
      "outputs": [
        {
          "name": "stdout",
          "output_type": "stream",
          "text": [
            "The converged vector is equivalent to the first eigenvector (multiplied by a scalar depending on initialization):\n",
            "\n",
            "[-0.005 -0.002 -0.035 -0.517 -0.    -0.    -0.    -0.    -0.     0.\n",
            " -0.     0.    -0.002 -0.056  0.    -0.    -0.    -0.     0.     0.\n",
            " -0.007 -0.003 -0.049 -0.852 -0.    -0.    -0.    -0.    -0.    -0.   ]\n",
            "[ 0.005  0.002  0.035  0.517  0.     0.     0.     0.     0.    -0.\n",
            "  0.    -0.     0.002  0.056 -0.     0.     0.     0.    -0.    -0.\n",
            "  0.007  0.003  0.049  0.852  0.     0.     0.     0.     0.     0.   ]\n"
          ]
        }
      ]
    },
    {
      "cell_type": "markdown",
      "metadata": {
        "id": "vVvB44izaFFy"
      },
      "source": [
        "## PCA with Large Dimensions\n",
        "\n",
        "The dataset used in this demonstration has a dimensionality of 30, making it computationally simple to solve for all eigenvalues using eigendecomposition or SVD. This may not always be feasible for high dimensional datasets. The textbook mentioned a particular case where the number of examples is significantly less than the number of dimensions. In this case, some of the dimensions are redundant and so calculating the eigenvectors of the entire $D\\times D$ covariance matrix would be a computational waste [1]. \n",
        "\n",
        "This scenario can be simulated by considering all features of the first 3 examples of the Wisconsin breast cancer dataset such that the dataset is 3x30. In the calculation below, it is shown that the first eigenvector of the 30x30 covariance matrix, $XX^T \\epsilon \\space{\\displaystyle \\mathbb {R} }^{D\\times D}$, can be found from the first eigenvector of the 3x3 covariance matrix: $X^TX \\epsilon \\space{\\displaystyle \\mathbb {R} }^{N\\times N}$. This process can be repeated for the remaining eigenvectors of $X^TX$, and can be scaled to problems with higher dimensionality. It enables the determination of the PCA basis vectors without computationally prohibitive operations on a large covariance matrix."
      ]
    },
    {
      "cell_type": "code",
      "metadata": {
        "colab": {
          "base_uri": "https://localhost:8080/",
          "height": 247
        },
        "id": "fBWJYrnMb1ij",
        "outputId": "8b6b0fdb-d87d-4c25-df83-ad8f9df23a7f"
      },
      "source": [
        "X_ld = X_standard[0:3, :].T\n",
        "\n",
        "print(\"First eigenvector from D x D covariance matrix:\\n\")\n",
        "cov_X_ld = X_ld.dot(X_ld.T)\n",
        "print(\"Shape of covariance matrix:\", cov_X_ld.shape)\n",
        "eival, eivec = np.linalg.eig(cov_X_ld)\n",
        "print(abs(eivec[:,0]))\n",
        "\n",
        "print(\"\\nFirst eigenvector found from N x N covariance matrix:\\n\")\n",
        "cov_X_ld_T = X_ld.T.dot(X_ld)\n",
        "print(\"Shape of covariance matrix:\", cov_X_ld_T.shape)\n",
        "eival, eivec = np.linalg.eig(cov_X_ld_T)\n",
        "eivec_1 = eivec[:,0]\n",
        "recalc = (X_ld).dot(eivec_1)\n",
        "print(recalc / np.linalg.norm(recalc)) #normalize the transformed eigenvector."
      ],
      "execution_count": null,
      "outputs": [
        {
          "name": "stdout",
          "output_type": "stream",
          "text": [
            "First eigenvector from D x D covariance matrix:\n",
            "\n",
            "Shape of covariance matrix: (30, 30)\n",
            "[0.005 0.003 0.032 0.453 0.    0.    0.    0.    0.    0.    0.    0.\n",
            " 0.002 0.058 0.    0.    0.    0.    0.    0.    0.007 0.003 0.051 0.887\n",
            " 0.    0.    0.    0.    0.    0.   ]\n",
            "\n",
            "First eigenvector found from N x N covariance matrix:\n",
            "\n",
            "Shape of covariance matrix: (3, 3)\n",
            "[ 0.005 -0.003  0.032  0.453  0.     0.     0.     0.     0.     0.\n",
            "  0.    -0.     0.002  0.058 -0.     0.     0.     0.     0.     0.\n",
            "  0.007 -0.003  0.051  0.887  0.     0.     0.     0.     0.     0.   ]\n"
          ]
        }
      ]
    },
    {
      "cell_type": "markdown",
      "metadata": {
        "id": "o9MJpTo0zXyA"
      },
      "source": [
        "## Using scikit-learn Libraries\n",
        "\n",
        "It is also possible to use the PCA model developed by the sklearn library to transform the data to a principal subspace, similar to what was carried out manually earlier in this demonstration. "
      ]
    },
    {
      "cell_type": "code",
      "metadata": {
        "colab": {
          "base_uri": "https://localhost:8080/",
          "height": 300
        },
        "id": "7CN46ZTcz_A8",
        "outputId": "5ff91f47-fe21-4493-a9f1-c9d547a6f829"
      },
      "source": [
        "from sklearn.decomposition import PCA\n",
        "\n",
        "pca = PCA(n_components=1)\n",
        "pca.fit(X)\n",
        "\n",
        "X_pca = pca.transform(X)\n",
        "\n",
        "#set up plots\n",
        "toPlot = np.arange(0,Xi,1)\n",
        "ben = X_pca[Y[:] > 0.5]\n",
        "ben_toPlot = toPlot[Y[:] > 0.5]\n",
        "mal = X_pca[Y[:] < 0.5]\n",
        "mal_toPlot = toPlot[Y[:] < 0.5]\n",
        "\n",
        "plt.scatter(ben_toPlot,ben, color = 'green')\n",
        "plt.scatter(mal_toPlot,mal, color = 'red')\n",
        "plt.ylabel(\"Principal Component 1\")\n",
        "plt.legend(label_names)\n",
        "plt.show()\n",
        "\n",
        "scores = pca.score(X)\n",
        "\n",
        "print(\"\\nThe average log-likelyhood of all samples is:\",scores)\n",
        "\n"
      ],
      "execution_count": null,
      "outputs": [
        {
          "data": {
            "image/png": "[encoded data removed]",
            "text/plain": [
              "<Figure size 432x288 with 1 Axes>"
            ]
          },
          "metadata": {
            "needs_background": "light"
          },
          "output_type": "display_data"
        },
        {
          "name": "stdout",
          "output_type": "stream",
          "text": [
            "\n",
            "The average log-likelyhood of all samples is: -130.73698263705592\n"
          ]
        }
      ]
    },
    {
      "cell_type": "markdown",
      "metadata": {
        "id": "CL-mNxajmQ9R"
      },
      "source": [
        "## Latent Variable Perspective\n",
        "\n",
        "Another approach to PCA is to consider it as a maximum likelihood estimation (MLE) where any given example is a function of a latent variable, $z_m$, the offset between the centered data and the non centered example, $\\mu$, a projection matrix, $B$, and some noise, $\\sigma$ [1].  By using Bayesian inference an MLE model can determine the appropriate number of dimensions to use in the principal subspace and create a probabilistic model [6]. The log-likely hood of each example can also be computed for the created model. This would allow for comparison with other probabilistic models. It can also be seen that the samples are better fit by the model created using MLE than with the model created with just one principal component above. This is based on the average log-likelyhood being lower for the model with one principal component."
      ]
    },
    {
      "cell_type": "code",
      "metadata": {
        "colab": {
          "base_uri": "https://localhost:8080/",
          "height": 194
        },
        "id": "IUbo4GxAmRNP",
        "outputId": "b2721d73-15fe-4504-e95c-b4c22f6ae0e7"
      },
      "source": [
        "p_pca = PCA(svd_solver='full', n_components='mle')\n",
        "p_pca.fit(X_standard)\n",
        "cov_sklearn = p_pca.get_covariance()\n",
        "scores = p_pca.score(X_standard)\n",
        "\n",
        "print(\"The average log-likelyhood of all samples is:\", scores)\n",
        "print(\"\\n\", cov_sklearn[0, :])\n",
        "print(S_std[0, :])"
      ],
      "execution_count": null,
      "outputs": [
        {
          "name": "stdout",
          "output_type": "stream",
          "text": [
            "The average log-likelyhood of all samples is: 32.512920830962514\n",
            "\n",
            " [  12.419    4.908   85.447 1224.483    0.008    0.094    0.19     0.112\n",
            "    0.014   -0.008    0.664   -0.189    4.804  117.968   -0.002    0.013\n",
            "    0.021    0.008   -0.003   -0.      16.514    6.433  114.289 1888.227\n",
            "    0.01     0.229    0.387    0.172    0.036    0.   ]\n",
            "[  12.419    4.908   85.447 1224.483    0.008    0.094    0.19     0.112\n",
            "    0.014   -0.008    0.664   -0.189    4.804  117.968   -0.002    0.013\n",
            "    0.021    0.008   -0.003   -0.      16.514    6.433  114.289 1888.227\n",
            "    0.01     0.229    0.387    0.172    0.036    0.   ]\n"
          ]
        }
      ]
    },
    {
      "cell_type": "markdown",
      "metadata": {
        "id": "4ZrlNac8tufW"
      },
      "source": [
        "## References\n",
        "\n",
        "\n",
        "1.   M. P. Deisenroth, A. A. Faisal, and C. S. Ong, Mathematics for Machine Learning. To be published by: Cambridge University Press, 2019.\n",
        "2.   \"sklearn.decomposition.PCA,\" 2019. [Online]. Available: https://scikit-learn.org/stable/modules/generated/sklearn.decomposition.PCA.html. [Accessed: 01-Nov-2019].\n",
        "3.    “sklearn.datasets.load_breast_cancer,” 2019. [Online]. Available: https://scikit-learn.org/stable/modules/generated/sklearn.datasets.load_breast_cancer.html. [Accessed: 01-Nov-2019].\n",
        "4.    D. Dua and C. Graff, “UCI Machine Learning Repository,” 2019. [Online]. Available: http://archive.ics.uci.edu/ml. [Accessed: 01-Nov-2019].\n",
        "5. A. I. Baba and C. Câtoi, Comparative Oncology: Chapter 3, Tumor Cell Morphology. Bucharest, RO: The Publishing House of the Romanian Academy, 2007.\n",
        "6. T.P. Minka, Automatic choice of dimensionality for PCA. MIT Media Laboratory Perceptual Computing Section Technical Report No. 514, MIT Media Laboratory Vision and Modeling Group, 2000.\n",
        "\n",
        "\n",
        "\n",
        "\n",
        "\n"
      ]
    }
  ]
}
